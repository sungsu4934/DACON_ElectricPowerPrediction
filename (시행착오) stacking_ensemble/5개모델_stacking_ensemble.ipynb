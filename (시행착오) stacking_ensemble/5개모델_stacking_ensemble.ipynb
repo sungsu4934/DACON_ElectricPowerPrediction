{
 "cells": [
  {
   "cell_type": "code",
   "execution_count": null,
   "metadata": {},
   "outputs": [],
   "source": [
    "import ast\n",
    "import warnings\n",
    "\n",
    "import numpy as np\n",
    "import pandas as pd\n",
    "\n",
    "from sklearn.model_selection import KFold, cross_val_score\n",
    "from sklearn.metrics.scorer import make_scorer\n",
    "\n",
    "from lightgbm import LGBMRegressor\n",
    "from bayes_opt import BayesianOptimization\n",
    "\n",
    "warnings.filterwarnings(action='ignore')"
   ]
  },
  {
   "cell_type": "markdown",
   "metadata": {},
   "source": [
    "# Load Data & Change Column Name"
   ]
  },
  {
   "cell_type": "code",
   "execution_count": null,
   "metadata": {},
   "outputs": [],
   "source": [
    "df_rf = pd.read_excel('df_rf_prediction.xlsx')\n",
    "df_et = pd.read_excel('df_et_prediction.xlsx')\n",
    "df_lgb = pd.read_csv('df_lgbm_prediction.csv')\n",
    "df_xgb = pd.read_csv('df_xgb_prediction.csv')\n",
    "df_cb = pd.read_csv('df_cb_prediction.csv')\n",
    "\n",
    "colnames = ['모델명', 'valid_pred', 'valid_true', 'vaild_SMAPE', 'test_pred']\n",
    "df_rf.columns = colnames\n",
    "df_et.columns = colnames\n",
    "df_lgb.columns = colnames\n",
    "df_xgb.columns = colnames\n",
    "df_cb.columns = colnames\n",
    "\n",
    "print(f'df_rf: {df_rf.shape}')\n",
    "print(f'df_et: {df_et.shape}')\n",
    "print(f'df_lgb: {df_lgb.shape}')\n",
    "print(f'df_xgb: {df_xgb.shape}')\n",
    "print(f'df_cb: {df_cb.shape}')"
   ]
  },
  {
   "cell_type": "markdown",
   "metadata": {},
   "source": [
    "# fold별 데이터프레임을 건물별로 변경"
   ]
  },
  {
   "cell_type": "code",
   "execution_count": null,
   "metadata": {},
   "outputs": [],
   "source": [
    "def make_building_df(df):\n",
    "\n",
    "\n",
    "    # str2list\n",
    "    df['건물명'] = df['모델명'].apply(lambda x: x.split('_')[0])\n",
    "    df['건물명'] = df['건물명'].astype('int')\n",
    "    df['valid_pred'] = df['valid_pred'].apply(lambda x: ast.literal_eval(x))\n",
    "    df['valid_true'] = df['valid_true'].apply(lambda x: ast.literal_eval(x))\n",
    "    df['test_pred'] = df['test_pred'].apply(lambda x: ast.literal_eval(x))\n",
    "\n",
    "    valid_preds = []\n",
    "    valid_trues = []\n",
    "    test_preds = []\n",
    "    valid_smapes = df.groupby('건물명').mean()['vaild_SMAPE'].tolist()\n",
    "\n",
    "\n",
    "    # 연산\n",
    "    for BUILDING_NUM in range(1, 61):\n",
    "        tmp_valid_pred = df.loc[df['건물명'] == BUILDING_NUM, 'valid_pred']\n",
    "        tmp_valid_true = df.loc[df['건물명'] == BUILDING_NUM, 'valid_true']\n",
    "        tmp_test_pred = df.loc[df['건물명'] == BUILDING_NUM, 'test_pred']\n",
    "\n",
    "        tmp_valid_preds = []\n",
    "        tmp_valid_trues = []\n",
    "        tmp_test_preds = np.zeros(168)\n",
    "\n",
    "        for valid_pred, valid_true, test_pred in zip(tmp_valid_pred, tmp_valid_true, tmp_test_pred):\n",
    "            tmp_valid_preds.extend(valid_pred)\n",
    "            tmp_valid_trues.extend(valid_true)\n",
    "            tmp_test_preds += (np.array(test_pred) / 5)\n",
    "\n",
    "        valid_preds.append(tmp_valid_preds)\n",
    "        valid_trues.append(tmp_valid_trues)\n",
    "        test_preds.append(tmp_test_preds.tolist())\n",
    "\n",
    "    # 데이터프레임에 추가    \n",
    "    df_final = pd.DataFrame()\n",
    "    BUILDING_NUM = 1\n",
    "\n",
    "    for VALID_PRED, VALID_TRUE, VALID_SMAPE, TEST_PRED in zip(valid_preds, valid_trues, valid_smapes, test_preds):\n",
    "        tmp = pd.DataFrame({'건물명':[BUILDING_NUM],\n",
    "                            'valid_pred':[VALID_PRED],\n",
    "                            'valid_true':[VALID_TRUE],\n",
    "                            'valid_SMAPE':[VALID_SMAPE],\n",
    "                            'test_pred':[TEST_PRED]})\n",
    "\n",
    "        df_final = df_final.append(tmp, ignore_index=True)\n",
    "\n",
    "        BUILDING_NUM += 1\n",
    "        \n",
    "    return df_final"
   ]
  },
  {
   "cell_type": "code",
   "execution_count": null,
   "metadata": {},
   "outputs": [],
   "source": [
    "# df_rf_per_building = make_building_df(df_rf)\n",
    "# df_et_per_building = make_building_df(df_et)\n",
    "df_lgb_per_building = make_building_df(df_lgb)\n",
    "df_xgb_per_building = make_building_df(df_xgb)\n",
    "df_cb_per_building = make_building_df(df_cb)\n",
    "\n",
    "# print(f'df_rf_per_building: {df_rf_per_building.shape}')\n",
    "# print(f'df_et_per_building: {df_et_per_building.shape}')\n",
    "print(f'df_lgb_per_building: {df_lgb_per_building.shape}')\n",
    "print(f'df_xgb_per_building: {df_xgb_per_building.shape}')\n",
    "print(f'df_cb_per_building: {df_cb_per_building.shape}')"
   ]
  },
  {
   "cell_type": "markdown",
   "metadata": {},
   "source": [
    "# 모델링"
   ]
  },
  {
   "cell_type": "code",
   "execution_count": null,
   "metadata": {},
   "outputs": [],
   "source": [
    "B_num = 1\n",
    "stacking_train = pd.DataFrame({'lgb':df_lgb_per_building.loc[df_lgb_per_building['건물명'] == B_num, 'valid_pred'][0],\n",
    "                                 'xgb':df_xgb_per_building.loc[df_xgb_per_building['건물명'] == B_num, 'valid_pred'][0],\n",
    "                                 'cb':df_cb_per_building.loc[df_cb_per_building['건물명'] == B_num, 'valid_pred'][0],\n",
    "                                 'true':df_cb_per_building.loc[df_cb_per_building['건물명'] == B_num, 'valid_true'][0]}) # valid_true는 아무대서나 가져와도 가능\n",
    "\n",
    "stacking_test = pd.DataFrame({'lgb':df_lgb_per_building.loc[df_lgb_per_building['건물명'] == B_num, 'test_pred'][0],\n",
    "                                 'xgb':df_xgb_per_building.loc[df_xgb_per_building['건물명'] == B_num, 'test_pred'][0],\n",
    "                                 'cb':df_cb_per_building.loc[df_cb_per_building['건물명'] == B_num, 'test_pred'][0]})"
   ]
  },
  {
   "cell_type": "markdown",
   "metadata": {},
   "source": [
    "### 1. 파라미터 찾기"
   ]
  },
  {
   "cell_type": "code",
   "execution_count": null,
   "metadata": {},
   "outputs": [],
   "source": [
    "def SMAPE_LGBM(y_pred, y_true):\n",
    " \n",
    "    v = 2 * abs(y_pred - y_true) / (abs(y_pred) + abs(y_true))\n",
    "    SMAPE = - (np.mean(v) * 100)\n",
    "    \n",
    "    return SMAPE"
   ]
  },
  {
   "cell_type": "code",
   "execution_count": null,
   "metadata": {},
   "outputs": [],
   "source": [
    "def lgb_evaluate(num_leaves, colsample_bytree, subsample, min_split_gain, min_child_samples, subsample_freq ):\n",
    "    params = {\n",
    "        'learning_rate' : 0.01,\n",
    "        'n_estimators': 500,\n",
    "        'random_state': 42, \n",
    "        'max_depth': -1,\n",
    "        'num_leaves': int(num_leaves),\n",
    "        'colsample_bytree': colsample_bytree,\n",
    "        'subsample':subsample,\n",
    "        'min_split_gain': min_split_gain,\n",
    "        'min_child_samples' : int(min_child_samples),\n",
    "        'subsample_freq' : int(subsample_freq) \n",
    "    }\n",
    "    lgb = LGBMRegressor(**params)\n",
    "    \n",
    "    kf = KFold(n_splits=5, random_state=42, shuffle=True)\n",
    "    scores = cross_val_score(lgb, X, y, cv=kf, scoring=make_scorer(SMAPE_LGBM, greater_is_better=True))\n",
    "    return np.mean(scores)"
   ]
  },
  {
   "cell_type": "code",
   "execution_count": null,
   "metadata": {},
   "outputs": [],
   "source": [
    "lgb_params = {}\n",
    "\n",
    "for B_num in range(1,61):\n",
    "    \n",
    "    print(f'\\n\\n================== 건물명: {B_num} 시작!! ==================')\n",
    "\n",
    "    stacking_train = pd.DataFrame({'lgb':df_lgb_per_building.loc[df_lgb_per_building['건물명'] == B_num, 'valid_pred'][0],\n",
    "                                   'xgb':df_xgb_per_building.loc[df_xgb_per_building['건물명'] == B_num, 'valid_pred'][0],\n",
    "                                   'cb':df_cb_per_building.loc[df_cb_per_building['건물명'] == B_num, 'valid_pred'][0],\n",
    "                                   'true':df_cb_per_building.loc[df_cb_per_building['건물명'] == B_num, 'valid_true'][0]}) # valid_true는 아무대서나 가져와도 가능\n",
    "\n",
    "    stacking_test = pd.DataFrame({'lgb':df_lgb_per_building.loc[df_lgb_per_building['건물명'] == B_num, 'test_pred'][0],\n",
    "                                   'xgb':df_xgb_per_building.loc[df_xgb_per_building['건물명'] == B_num, 'test_pred'][0],\n",
    "                                   'cb':df_cb_per_building.loc[df_cb_per_building['건물명'] == B_num, 'test_pred'][0]})\n",
    "    \n",
    "    X = stacking_train.drop(['true'], axis = 1)\n",
    "    y = stacking_train['true']\n",
    "\n",
    "    lgbBO = BayesianOptimization(lgb_evaluate, \n",
    "                             {'num_leaves':(63, 255),\n",
    "                              'colsample_bytree':  (0.6, 1),\n",
    "                              'subsample' : (0.8, 1),\n",
    "                              'min_split_gain': (0.001, 0.1),\n",
    "                              'min_child_samples' : (20, 100),\n",
    "                              'subsample_freq' : (0, 5)})\n",
    "\n",
    "    lgbBO.maximize(init_points=5, n_iter=50)\n",
    "\n",
    "    lgb_param = lgbBO.max['params']\n",
    "    lgb_param['learning_rate'] = 0.01\n",
    "    lgb_params[B_num] = lgb_param"
   ]
  },
  {
   "cell_type": "markdown",
   "metadata": {},
   "source": [
    "### 2. 모델에 대입"
   ]
  },
  {
   "cell_type": "code",
   "execution_count": null,
   "metadata": {},
   "outputs": [],
   "source": [
    "def SMAPE(y_pred, dataset):\n",
    "    y_true = dataset.get_label()\n",
    "\n",
    "    v = 2 * abs(y_pred - y_true) / (abs(y_pred) + abs(y_true))\n",
    "    SMAPE = np.mean(v) * 100\n",
    "    \n",
    "    return 'SMAPE', SMAPE, False"
   ]
  },
  {
   "cell_type": "code",
   "execution_count": null,
   "metadata": {
    "scrolled": true
   },
   "outputs": [],
   "source": [
    "import lightgbm as lgb\n",
    "\n",
    "n_splits = 5\n",
    "\n",
    "lgb_models={}\n",
    "\n",
    "\n",
    "for BUILDING_NUM in range(1,61):\n",
    "    \n",
    "    print(f'\\n\\n================== 건물명: {BUILDING_NUM} 시작!! ==================')\n",
    "\n",
    "    step = 1\n",
    "    cv = KFold(n_splits = n_splits, shuffle = True, random_state=42)\n",
    "    \n",
    "    stacking_train = pd.DataFrame({'lgb':df_lgb_per_building.loc[df_lgb_per_building['건물명'] == B_num, 'valid_pred'][0],\n",
    "                                   'xgb':df_xgb_per_building.loc[df_xgb_per_building['건물명'] == B_num, 'valid_pred'][0],\n",
    "                                   'cb':df_cb_per_building.loc[df_cb_per_building['건물명'] == B_num, 'valid_pred'][0],\n",
    "                                   'true':df_cb_per_building.loc[df_cb_per_building['건물명'] == B_num, 'valid_true'][0]}) # valid_true는 아무대서나 가져와도 가능\n",
    "\n",
    "    stacking_test = pd.DataFrame({'lgb':df_lgb_per_building.loc[df_lgb_per_building['건물명'] == B_num, 'test_pred'][0],\n",
    "                                   'xgb':df_xgb_per_building.loc[df_xgb_per_building['건물명'] == B_num, 'test_pred'][0],\n",
    "                                   'cb':df_cb_per_building.loc[df_cb_per_building['건물명'] == B_num, 'test_pred'][0]})\n",
    "    \n",
    "    X = stacking_train.drop(['true'], axis = 1)\n",
    "    y = stacking_train['true']\n",
    "    \n",
    "    lgb_final_param = {\n",
    "                      \"objective\" : \"regression\",\n",
    "                      \"num_leaves\" : 90,\n",
    "                      \"max_depth\": -1,\n",
    "                      \"learning_rate\" : 0.01,\n",
    "                      \"bagging_fraction\" : 1,  # subsample\n",
    "                      \"feature_fraction\" : 0.9,  # colsample_bytree\n",
    "                      \"bagging_freq\" : 5,        # subsample_freq\n",
    "                      \"bagging_seed\" : 2018,\n",
    "                      \"verbosity\" : -1,\n",
    "                      \"max_bin\" : 1000}\n",
    "    \n",
    "    lgb_final_param['num_leaves'] = int(lgb_params[BUILDING_NUM]['num_leaves'])\n",
    "    lgb_final_param['feature_fraction'] = lgb_params[BUILDING_NUM]['colsample_bytree']\n",
    "    lgb_final_param['bagging_fraction'] = lgb_params[BUILDING_NUM]['subsample']\n",
    "    lgb_final_param['min_gain_to_split'] = lgb_params[BUILDING_NUM]['min_split_gain']\n",
    "    lgb_final_param['min_data_in_leaf'] = int(lgb_params[BUILDING_NUM]['min_child_samples'])\n",
    "    lgb_final_param['bagging_freq'] = int(lgb_params[BUILDING_NUM]['subsample_freq'])\n",
    "    \n",
    "    # kfold를 통한 모델 구축\n",
    "    for tr_idx, val_idx in cv.split(X):  \n",
    "\n",
    "        print(f'\\n\\n ============================ {step} ============================')    \n",
    "\n",
    "        X_train = X.iloc[tr_idx, :].values\n",
    "        y_train = y[tr_idx].values\n",
    "\n",
    "        X_valid = X.iloc[val_idx, :].values\n",
    "        y_valid = y[val_idx].values\n",
    "\n",
    "        lgb_dtrain = lgb.Dataset(data = X_train, label = y_train) \n",
    "        lgb_dvalid = lgb.Dataset(data = X_valid, label = y_valid) \n",
    "\n",
    "        lgb_model = lgb.train(lgb_final_param, lgb_dtrain, 20000, valid_sets=[lgb_dvalid], early_stopping_rounds=100, verbose_eval=1000, feval=SMAPE)\n",
    "\n",
    "        # 모델 저장\n",
    "        dict_key = f'{BUILDING_NUM}_{step}'\n",
    "        lgb_models[dict_key] = lgb_model\n",
    "\n",
    "        step += 1"
   ]
  },
  {
   "cell_type": "markdown",
   "metadata": {},
   "source": [
    "# Submission"
   ]
  },
  {
   "cell_type": "code",
   "execution_count": null,
   "metadata": {
    "scrolled": true
   },
   "outputs": [],
   "source": [
    "answer_list = []\n",
    "\n",
    "\n",
    "for BUILDING_NUM in range(1,61):\n",
    "    \n",
    "    if BUILDING_NUM % 10 == 0:\n",
    "        print(f'== 건물명: {BUILDING_NUM} 시작!! ==')\n",
    "    \n",
    "    values = []\n",
    "    stacking_test = pd.DataFrame({'lgb':df_lgb_per_building.loc[df_lgb_per_building['건물명'] == B_num, 'test_pred'][0],\n",
    "                                  'xgb':df_xgb_per_building.loc[df_xgb_per_building['건물명'] == B_num, 'test_pred'][0],\n",
    "                                  'cb':df_cb_per_building.loc[df_cb_per_building['건물명'] == B_num, 'test_pred'][0]})\n",
    "    \n",
    "    for step in range(1,1+n_splits):\n",
    "\n",
    "        dict_key = f'{BUILDING_NUM}_{step}'\n",
    "        value = pd.Series(lgb_models[dict_key].predict(stacking_test) / n_splits)\n",
    "\n",
    "        if step == 1:\n",
    "            values = value.copy()\n",
    "        else:\n",
    "            values += value\n",
    "\n",
    "    answer_list.extend(values.tolist())"
   ]
  },
  {
   "cell_type": "code",
   "execution_count": null,
   "metadata": {},
   "outputs": [],
   "source": [
    "submission = sample_submission.copy()\n",
    "submission['answer'] = answer_list\n",
    "submission.to_csv('submission_0623(5개모델전체스태킹앙상블).csv', index= False) \n",
    "submission"
   ]
  }
 ],
 "metadata": {
  "kernelspec": {
   "display_name": "Python 3",
   "language": "python",
   "name": "python3"
  },
  "language_info": {
   "codemirror_mode": {
    "name": "ipython",
    "version": 3
   },
   "file_extension": ".py",
   "mimetype": "text/x-python",
   "name": "python",
   "nbconvert_exporter": "python",
   "pygments_lexer": "ipython3",
   "version": "3.8.5"
  }
 },
 "nbformat": 4,
 "nbformat_minor": 4
}
