{
 "cells": [
  {
   "cell_type": "code",
   "execution_count": null,
   "metadata": {
    "executionInfo": {
     "elapsed": 1291,
     "status": "ok",
     "timestamp": 1621327525302,
     "user": {
      "displayName": "조요한",
      "photoUrl": "",
      "userId": "00920397089810622068"
     },
     "user_tz": -540
    },
    "id": "a163be01"
   },
   "outputs": [],
   "source": [
    "import matplotlib.pyplot as plt\n",
    "import numpy as np\n",
    "import pandas as pd\n",
    "import seaborn as sns\n",
    "import math\n",
    "import datetime\n",
    "import warnings\n",
    "\n",
    "from sklearn.cluster import KMeans\n",
    "from sklearn.ensemble import RandomForestRegressor\n",
    "from sklearn.model_selection import KFold, cross_val_score\n",
    "from sklearn.metrics.scorer import make_scorer\n",
    "\n",
    "from bayes_opt import BayesianOptimization\n",
    "\n",
    "warnings.filterwarnings(action='ignore')\n",
    "\n",
    "\n",
    "plt.rcParams['font.family'] = 'NanumBarunGothic'\n",
    "%config inlinebackend.figure_format = 'retina'\n",
    "plt.rcParams['figure.dpi'] = 100 "
   ]
  },
  {
   "cell_type": "markdown",
   "metadata": {
    "id": "6hCMP8ZOo42u"
   },
   "source": [
    "## 1. 데이터 전처리"
   ]
  },
  {
   "cell_type": "code",
   "execution_count": null,
   "metadata": {
    "executionInfo": {
     "elapsed": 733,
     "status": "ok",
     "timestamp": 1621327525908,
     "user": {
      "displayName": "조요한",
      "photoUrl": "",
      "userId": "00920397089810622068"
     },
     "user_tz": -540
    },
    "id": "4f250df3"
   },
   "outputs": [],
   "source": [
    "train = pd.read_csv('train.csv', encoding='cp949')\n",
    "test = pd.read_csv('test.csv', encoding='cp949')\n",
    "test = test.rename(columns={'강수량(mm, 6시간)':'강수량(mm)',\n",
    "                    '일조(hr, 3시간)':'일조(hr)'})\n",
    "train['date_time'] = pd.to_datetime(train['date_time'])\n",
    "test['date_time'] = pd.to_datetime(test['date_time'])\n",
    "\n",
    "\n",
    "sample_submission = pd.read_csv('sample_submission.csv', encoding='cp949')\n",
    "\n",
    "print(f'Train: {train.shape}')\n",
    "print(f'Test: {test.shape}')\n",
    "print(f'Submission: {sample_submission.shape}')"
   ]
  },
  {
   "cell_type": "markdown",
   "metadata": {
    "id": "adZxcUJUpGD-"
   },
   "source": [
    "### 1-1. 결측치 처리\n",
    "\n",
    "- train 데이터의 기간동안 비전기냉방설운영 형태나 태양광보유 상황이 달라지지 않은 것으로 보여, 현재의 값들로 test 데이터의 Null값을 채웁니다.\n",
    "- 기온/풍속/습도/강수령/일조데이터는 선형보간으로 값을 채웁니다."
   ]
  },
  {
   "cell_type": "code",
   "execution_count": null,
   "metadata": {
    "executionInfo": {
     "elapsed": 1446,
     "status": "ok",
     "timestamp": 1621327531482,
     "user": {
      "displayName": "조요한",
      "photoUrl": "",
      "userId": "00920397089810622068"
     },
     "user_tz": -540
    },
    "id": "d1960ea4"
   },
   "outputs": [],
   "source": [
    "sun = train.groupby('num')['태양광보유'].unique()\n",
    "non_ele = train.groupby('num')['비전기냉방설비운영'].unique()"
   ]
  },
  {
   "cell_type": "code",
   "execution_count": null,
   "metadata": {
    "executionInfo": {
     "elapsed": 1063,
     "status": "ok",
     "timestamp": 1621327531482,
     "user": {
      "displayName": "조요한",
      "photoUrl": "",
      "userId": "00920397089810622068"
     },
     "user_tz": -540
    },
    "id": "ca6e1d8e"
   },
   "outputs": [],
   "source": [
    "test['태양광보유'] = test['num'].map(sun).astype(int)\n",
    "test['비전기냉방설비운영'] = test['num'].map(non_ele).astype(int)"
   ]
  },
  {
   "cell_type": "code",
   "execution_count": null,
   "metadata": {
    "colab": {
     "base_uri": "https://localhost:8080/",
     "height": 204
    },
    "executionInfo": {
     "elapsed": 581,
     "status": "ok",
     "timestamp": 1621327531483,
     "user": {
      "displayName": "조요한",
      "photoUrl": "",
      "userId": "00920397089810622068"
     },
     "user_tz": -540
    },
    "id": "d26SdCM2pb5v",
    "outputId": "37af60ff-e9aa-4493-ae72-19e7c1b3dd74",
    "scrolled": true
   },
   "outputs": [],
   "source": [
    "test = test.interpolate()\n",
    "test.head()"
   ]
  },
  {
   "cell_type": "markdown",
   "metadata": {
    "id": "RBMPRHYOsXn5"
   },
   "source": [
    "### 1-2. 날짜 변수 전처리 및 공휴일 데이터는 노이즈라고 판단하여 제거"
   ]
  },
  {
   "cell_type": "code",
   "execution_count": null,
   "metadata": {
    "executionInfo": {
     "elapsed": 600,
     "status": "ok",
     "timestamp": 1621327602943,
     "user": {
      "displayName": "조요한",
      "photoUrl": "",
      "userId": "00920397089810622068"
     },
     "user_tz": -540
    },
    "id": "a2c9192d"
   },
   "outputs": [],
   "source": [
    "# hour, month 등 변수 추가\n",
    "train['hour'] = train['date_time'].dt.hour\n",
    "train['month'] = train['date_time'].dt.month\n",
    "train['day'] = train['date_time'].dt.day\n",
    "train['weekday'] = train['date_time'].dt.weekday\n",
    "train['date'] = train['date_time'].dt.date\n",
    "\n",
    "test['hour'] = test['date_time'].dt.hour\n",
    "test['month'] = test['date_time'].dt.month\n",
    "test['day'] = test['date_time'].dt.day\n",
    "test['weekday'] = test['date_time'].dt.weekday\n",
    "test['date'] = test['date_time'].dt.date"
   ]
  },
  {
   "cell_type": "code",
   "execution_count": null,
   "metadata": {},
   "outputs": [],
   "source": [
    "# 주 및 다음날 변수 추가\n",
    "train['week'] = train['date_time'].dt.isocalendar().week\n",
    "train['next_week'] = train['week']+1\n",
    "train['tomorrow_day'] = pd.to_datetime(train['date'] + datetime.timedelta(days=1)).dt.day\n",
    "train['next_hour'] = (train['hour'] + 1).replace({24:0})\n",
    "\n",
    "test['week'] = test['date_time'].dt.isocalendar().week\n",
    "test['next_week'] = test['week']+1\n",
    "test['tomorrow_day'] = pd.to_datetime(test['date'] + datetime.timedelta(days=1)).dt.day\n",
    "test['next_hour'] = (test['hour'] + 1).replace({24:0})"
   ]
  },
  {
   "cell_type": "code",
   "execution_count": null,
   "metadata": {},
   "outputs": [],
   "source": [
    "# 1번: 6/1, 6/2, 6/3, 6/4\n",
    "train = train[~((train['num'] == 1) & (train['month'] == 6) & train['day'].isin([1,2,3,4]))]\n",
    "    \n",
    "# 2번: 8/17\n",
    "train = train[~((train['num'] == 2) & (train['month'] == 8) & train['day'].isin([17]))]\n",
    "\n",
    "# 3번: 7/15~8/4이 아닌 광복절만 제거\n",
    "train = train[~((train['num'] == 3) & (train['month'] == 8) & train['day'].isin([17]))]\n",
    "\n",
    "# 6번: 8/17\n",
    "train = train[~((train['num'] == 6) & (train['month'] == 8) & train['day'].isin([17]))]\n",
    "    \n",
    "# 7번: 8/17\n",
    "train = train[~((train['num'] == 7) & (train['month'] == 8) & train['day'].isin([17]))]\n",
    "\n",
    "# 8번: 8/17\n",
    "train = train[~((train['num'] == 8) & (train['month'] == 8) & train['day'].isin([17]))]\n",
    "\n",
    "# 9번: 6/3, 7/16\n",
    "train = train[~((train['num'] == 9) & (train['month'] == 6) & train['day'].isin([3]))]\n",
    "train = train[~((train['num'] == 9) & (train['month'] == 7) & train['day'].isin([16]))]\n",
    "\n",
    "# 10번: 7/27, 8/10\n",
    "train = train[~((train['num'] == 10) & (train['month'] == 7) & train['day'].isin([27]))]\n",
    "train = train[~((train['num'] == 10) & (train['month'] == 8) & train['day'].isin([10]))]\n",
    "\n",
    "# 13번: 8/17\n",
    "train = train[~((train['num'] == 13) & (train['month'] == 8) & train['day'].isin([17]))]\n",
    "\n",
    "# 16번: 8/17\n",
    "train = train[~((train['num'] == 16) & (train['month'] == 8) & train['day'].isin([17]))]\n",
    "\n",
    "# 17번: 8/17\n",
    "train = train[~((train['num'] == 17) & (train['month'] == 8) & train['day'].isin([17]))]\n",
    "\n",
    "# 18번: 8/17\n",
    "train = train[~((train['num'] == 18) & (train['month'] == 8) & train['day'].isin([17]))]\n",
    "\n",
    "# 22번: 8/17\n",
    "train = train[~((train['num'] == 22) & (train['month'] == 8) & train['day'].isin([17]))]\n",
    "\n",
    "# 23번: 8/17\n",
    "train = train[~((train['num'] == 23) & (train['month'] == 8) & train['day'].isin([17]))]\n",
    "\n",
    "# 24번: 6/1\n",
    "train = train[~((train['num'] == 24) & (train['month'] == 6) & train['day'].isin([1]))]\n",
    "    \n",
    "# 25번: 7/27~7/31, 8/17\n",
    "train = train[~((train['num'] == 25) & (train['month'] == 7) & train['day'].isin([27, 28, 29, 30, 31]))]\n",
    "train = train[~((train['num'] == 25) & (train['month'] == 8) & train['day'].isin([17]))]\n",
    "\n",
    "# 26번: 8/17\n",
    "train = train[~((train['num'] == 26) & (train['month'] == 8) & train['day'].isin([17]))]\n",
    "\n",
    "# 27번: 8/17\n",
    "train = train[~((train['num'] == 27) & (train['month'] == 8) & train['day'].isin([17]))]\n",
    "\n",
    "# 33번: 8/17\n",
    "train = train[~((train['num'] == 33) & (train['month'] == 8) & train['day'].isin([17]))]\n",
    "\n",
    "# 35번: 8/17\n",
    "train = train[~((train['num'] == 35) & (train['month'] == 8) & train['day'].isin([17]))]\n",
    "\n",
    "# 37번: 8/17\n",
    "train = train[~((train['num'] == 37) & (train['month'] == 8) & train['day'].isin([17]))]\n",
    "\n",
    "# 38번: 8/17\n",
    "train = train[~((train['num'] == 38) & (train['month'] == 8) & train['day'].isin([17]))]\n",
    "\n",
    "# 40번: 8/3\n",
    "train = train[~((train['num'] == 40) & (train['month'] == 8) & train['day'].isin([3]))]\n",
    "\n",
    "# 42번: 7/13, 8/10\n",
    "train = train[~((train['num'] == 42) & (train['month'] == 7) & train['day'].isin([13]))]\n",
    "train = train[~((train['num'] == 42) & (train['month'] == 8) & train['day'].isin([10]))]\n",
    "\n",
    "# 43번: 8/17\n",
    "train = train[~((train['num'] == 43) & (train['month'] == 8) & train['day'].isin([17]))]\n",
    "\n",
    "# 44번: 8/17\n",
    "train = train[~((train['num'] == 44) & (train['month'] == 8) & train['day'].isin([17]))]\n",
    "\n",
    "# 45번: 6/6, 8/15\n",
    "train = train[~((train['num'] == 45) & (train['month'] == 6) & train['day'].isin([6]))]\n",
    "train = train[~((train['num'] == 45) & (train['month'] == 8) & train['day'].isin([15]))]\n",
    "    \n",
    "# 46번: 6/6, 8/17\n",
    "train = train[~((train['num'] == 46) & (train['month'] == 6) & train['day'].isin([6]))]\n",
    "train = train[~((train['num'] == 46) & (train['month'] == 8) & train['day'].isin([17]))]    \n",
    "\n",
    "# 47번: 8/17\n",
    "train = train[~((train['num'] == 47) & (train['month'] == 8) & train['day'].isin([17]))]\n",
    "\n",
    "# 48번: 8/17\n",
    "train = train[~((train['num'] == 48) & (train['month'] == 8) & train['day'].isin([17]))]\n",
    "\n",
    "# 52번: 8/17\n",
    "train = train[~((train['num'] == 52) & (train['month'] == 8) & train['day'].isin([17]))]\n",
    "\n",
    "# 53번: 8/17\n",
    "train = train[~((train['num'] == 53) & (train['month'] == 8) & train['day'].isin([17]))]\n",
    "\n",
    "# 54번: 6/5, 8/17\n",
    "train = train[~((train['num'] == 54) & (train['month'] == 6) & train['day'].isin([5]))]\n",
    "train = train[~((train['num'] == 54) & (train['month'] == 8) & train['day'].isin([17]))]\n",
    "\n",
    "# 55번: 8/17\n",
    "train = train[~((train['num'] == 55) & (train['month'] == 8) & train['day'].isin([17]))]\n",
    "\n",
    "# 56번: 8/17\n",
    "train = train[~((train['num'] == 56) & (train['month'] == 8) & train['day'].isin([17]))]\n",
    "\n",
    "# 57번: 6/6, 8/15, 8/17\n",
    "train = train[~((train['num'] == 57) & (train['month'] == 6) & train['day'].isin([6]))]\n",
    "train = train[~((train['num'] == 57) & (train['month'] == 8) & train['day'].isin([15, 17]))]\n",
    "\n",
    "# 58번: 8/17\n",
    "train = train[~((train['num'] == 58) & (train['month'] == 8) & train['day'].isin([17]))]"
   ]
  },
  {
   "cell_type": "markdown",
   "metadata": {
    "id": "pjJ4Lo5ZqHl-"
   },
   "source": [
    "### 1-3. 군집화\n",
    " - 건물에 따른 일별 그리고 요일별 전력사용량 산출\n",
    " - 각 전력사용량을 표준화 실시 (일별, 요일별을 따로 하기 위해 sklearn의 StandardScaling 사용하지 않음)\n",
    " - elbow method를 활용한 최적 군집수 파악 및 군집화"
   ]
  },
  {
   "cell_type": "code",
   "execution_count": null,
   "metadata": {
    "scrolled": true
   },
   "outputs": [],
   "source": [
    "# 건물을 기준으로 하는 data frame 생성\n",
    "by_weekday = train.groupby(['num','weekday'])['전력사용량(kWh)'].median().reset_index().pivot('num','weekday','전력사용량(kWh)').reset_index()\n",
    "by_hour = train.groupby(['num','hour'])['전력사용량(kWh)'].median().reset_index().pivot('num','hour','전력사용량(kWh)').reset_index().drop('num', axis = 1)\n",
    "df_cluster = pd.concat([by_weekday, by_hour], axis= 1)\n",
    "columns = ['num'] + ['day'+str(i) for i in range(7)] + ['hour'+str(i) for i in range(24)]\n",
    "df_cluster.columns = columns\n",
    "\n",
    "# standard scaling\n",
    "for i in range(len(df_cluster)):\n",
    "    df_cluster.iloc[i,1:8] = (df_cluster.iloc[i,1:8] - df_cluster.iloc[i,1:8].mean())/df_cluster.iloc[i,1:8].std() # 요일 별 전력 중앙값에 대해 scaling\n",
    "    df_cluster.iloc[i,8:] = (df_cluster.iloc[i,8:] - df_cluster.iloc[i,8:].mean())/df_cluster.iloc[i,8:].std() # 시간대별 전력 중앙값에 대해 scaling\n",
    "    \n",
    "df_cluster"
   ]
  },
  {
   "cell_type": "code",
   "execution_count": null,
   "metadata": {
    "scrolled": true
   },
   "outputs": [],
   "source": [
    "# elbow method를 통해 군집의 개수 결정\n",
    "def change_n_clusters(n_clusters, data):\n",
    "    sum_of_squared_distance = []\n",
    "    for n_cluster in n_clusters:\n",
    "        kmeans = KMeans(n_clusters=n_cluster)\n",
    "        kmeans.fit(data)\n",
    "        sum_of_squared_distance.append(kmeans.inertia_)\n",
    "        \n",
    "    plt.figure(1 , figsize = (12, 6))\n",
    "    plt.plot(n_clusters , sum_of_squared_distance , 'o')\n",
    "    plt.plot(n_clusters , sum_of_squared_distance , '-' , alpha = 0.5)\n",
    "    plt.xlabel('Number of Clusters')\n",
    "    plt.ylabel('Inertia')\n",
    "\n",
    "change_n_clusters([2,3,4,5,6,7,8,9,10,11], df_cluster.iloc[:,1:]) # 최적군집수: 4"
   ]
  },
  {
   "cell_type": "code",
   "execution_count": null,
   "metadata": {
    "scrolled": true
   },
   "outputs": [],
   "source": [
    "# 건물별 군집화 결과\n",
    "OPTIMAL_CLUSTER = 4\n",
    "\n",
    "kmeans = KMeans(n_clusters=OPTIMAL_CLUSTER, random_state = 2)\n",
    "df_cluster['cluster'] = kmeans.fit_predict(df_cluster.iloc[:,1:])\n",
    "df_cluster_result = df_cluster[['num', 'cluster']].set_index('num')\n",
    "df_cluster_result['cluster'] = df_cluster_result['cluster'].replace({0:9999}).replace({1:8888}).replace({2:7777}).replace({3:6666})\n",
    "df_cluster_result['cluster'] = df_cluster_result['cluster'].replace({9999:1}).replace({8888:3}).replace({7777:2}).replace({6666:0})"
   ]
  },
  {
   "cell_type": "code",
   "execution_count": null,
   "metadata": {},
   "outputs": [],
   "source": [
    "# 적용\n",
    "train['cluster'] = train['num'].map(df_cluster_result['cluster']) # map을 쓰려면 index를 merge key로 지정 후 Series형태로 바꿔줄 것 \n",
    "test['cluster'] = test['num'].map(df_cluster_result['cluster']) # map을 쓰려면 index를 merge key로 지정 후 Series형태로 바꿔줄 것 "
   ]
  },
  {
   "cell_type": "code",
   "execution_count": null,
   "metadata": {
    "scrolled": true
   },
   "outputs": [],
   "source": [
    "# 군집화 결과 체크\n",
    "fig = plt.figure(figsize = (20, 4))\n",
    "for c in range(4):\n",
    "    temp = train[train.cluster == c]\n",
    "    temp = temp.groupby(['weekday', 'hour'])['전력사용량(kWh)'].median().reset_index().pivot('weekday', 'hour', '전력사용량(kWh)')\n",
    "    plt.subplot(1, 5, c+1)\n",
    "    sns.heatmap(temp)\n",
    "    plt.title(f'cluster {c}')\n",
    "    plt.xlabel('')\n",
    "    plt.ylabel('')\n",
    "    plt.yticks([])"
   ]
  },
  {
   "cell_type": "markdown",
   "metadata": {},
   "source": [
    "### 1-4. 불쾌지수"
   ]
  },
  {
   "cell_type": "code",
   "execution_count": null,
   "metadata": {},
   "outputs": [],
   "source": [
    "def DI(temp, humid):\n",
    "\n",
    "    return 0.81 * temp +0.01 * humid * (0.99*temp - 14.3)+ 46.3\n",
    "\n",
    "\n",
    "# DI 80 이상이면 50% 정도 불쾌감을 느낌\n",
    "train['DI'] = DI(train['기온(°C)'], train['습도(%)'])\n",
    "train['feel_DI'] = train['DI'].map(lambda x : 1 if x > 80 else 0)\n",
    "\n",
    "test['DI'] = DI(test['기온(°C)'], train['습도(%)'])\n",
    "test['feel_DI'] = test['DI'].map(lambda x : 1 if x > 80 else 0)"
   ]
  },
  {
   "cell_type": "markdown",
   "metadata": {},
   "source": [
    "### 1-5. 태양광"
   ]
  },
  {
   "cell_type": "code",
   "execution_count": null,
   "metadata": {},
   "outputs": [],
   "source": [
    "train['태양광'] =  train['일조(hr)'] * train['태양광보유'] * train['강수량(mm)'].map(lambda x : np.exp(-x)) * train['풍속(m/s)'] / train['습도(%)'] * 100\n",
    "test['태양광'] =  test['일조(hr)'] * test['태양광보유'] * test['강수량(mm)'].map(lambda x : np.exp(-x)) * test['풍속(m/s)'] / test['습도(%)'] * 100"
   ]
  },
  {
   "cell_type": "markdown",
   "metadata": {},
   "source": [
    "### 1-6. 체감온도"
   ]
  },
  {
   "cell_type": "code",
   "execution_count": null,
   "metadata": {},
   "outputs": [],
   "source": [
    "def get_pow(series):\n",
    "    return math.pow(series, 0.15)\n",
    "\n",
    "train['perceived_temperature'] = 13.12 + 0.6215*train['기온(°C)'] - 11.37*train['풍속(m/s)'].apply(get_pow) + 0.3965*train['풍속(m/s)'].apply(get_pow)*train['기온(°C)']\n",
    "test['perceived_temperature'] = 13.12 + 0.6215*test['기온(°C)'] - 11.37*test['풍속(m/s)'].apply(get_pow) + 0.3965*test['풍속(m/s)'].apply(get_pow)*test['기온(°C)']"
   ]
  },
  {
   "cell_type": "markdown",
   "metadata": {},
   "source": [
    "### 1-7. 최저/최고온도"
   ]
  },
  {
   "cell_type": "code",
   "execution_count": null,
   "metadata": {},
   "outputs": [],
   "source": [
    "# 그날의 최저기온 & 최고기온\n",
    "train = train.merge(train.groupby(['num','date'])['기온(°C)'].min().reset_index().rename(columns = {'기온(°C)':'min_temperature'}), on = ['num','date'], how = 'left')\n",
    "test = test.merge(test.groupby(['num','date'])['기온(°C)'].min().reset_index().rename(columns = {'기온(°C)':'min_temperature'}), on = ['num','date'], how = 'left')\n",
    "\n",
    "train = train.merge(train.groupby(['num','date'])['기온(°C)'].max().reset_index().rename(columns = {'기온(°C)':'max_temperature'}), on = ['num','date'], how = 'left')\n",
    "test = test.merge(test.groupby(['num','date'])['기온(°C)'].max().reset_index().rename(columns = {'기온(°C)':'max_temperature'}), on = ['num','date'], how = 'left')\n",
    "\n",
    "train.head()"
   ]
  },
  {
   "cell_type": "markdown",
   "metadata": {},
   "source": [
    "### 1-8. 근무시간 및 점심시간 변수 추가"
   ]
  },
  {
   "cell_type": "code",
   "execution_count": null,
   "metadata": {},
   "outputs": [],
   "source": [
    "train['working_time'] = 0\n",
    "test['working_time'] = 0\n",
    "train['lunch_time'] = 0\n",
    "test['lunch_time'] = 0\n",
    "\n",
    "train.loc[(train['cluster'] == 3) & (train['hour'].isin([8,9,10,11,12,13,14,15,16,17,18,19])), 'working_time'] = 1\n",
    "train.loc[(train['cluster'] == 2) & (train['hour'].isin([18,19,20,21,22])), 'working_time'] = 1\n",
    "train.loc[(train['cluster'] == 1) & (train['hour'].isin([8,9,10,11,12,13,14,15,16,17,18,19])) & (train['weekday'].isin([0,1,2,3,4])), 'working_time'] = 1\n",
    "train.loc[((train['cluster'] == 1) & (train['hour'].isin([11,12,13])) & (train['weekday'].isin([0,1,2,3,4]))), 'lunch_time'] = 1\n",
    "\n",
    "test.loc[(test['cluster'] == 3) & (test['hour'].isin([8,9,10,11,12,13,14,15,16,17,18,19])), 'working_time'] = 1\n",
    "test.loc[(test['cluster'] == 2) & (test['hour'].isin([18,19,20,21,22])), 'working_time'] = 1\n",
    "test.loc[(test['cluster'] == 1) & (test['hour'].isin([8,9,10,11,12,13,14,15,16,17,18,19])) & (test['weekday'].isin([0,1,2,3,4])), 'working_time'] = 1\n",
    "test.loc[(test['cluster'] == 1) & (test['hour'].isin([11,12,13])) & (test['weekday'].isin([0,1,2,3,4])), 'lunch_time'] = 1"
   ]
  },
  {
   "cell_type": "markdown",
   "metadata": {},
   "source": [
    "### 1-9. 평일/주말 구분 변수 생성"
   ]
  },
  {
   "cell_type": "code",
   "execution_count": null,
   "metadata": {},
   "outputs": [],
   "source": [
    "def weekend(day):\n",
    "    if day >= 5:\n",
    "        return 1\n",
    "    else:\n",
    "        return 0\n",
    "\n",
    "train['weekend_bool'] = train['weekday'].apply(lambda x: weekend(x))\n",
    "test['weekend_bool'] = test['weekday'].apply(lambda x: weekend(x))\n",
    "\n",
    "# 추가적으로 공휴일을 고려해준다. 8/15의 대체공휴일인 8/17 --> 공휴일로 취급\n",
    "train.loc[(train['month'] == 8) & (train['day'] == 17), 'weekend_bool'] = 1"
   ]
  },
  {
   "cell_type": "markdown",
   "metadata": {},
   "source": [
    "### 1-10. 월과 일을 결합한 파생변수"
   ]
  },
  {
   "cell_type": "code",
   "execution_count": null,
   "metadata": {},
   "outputs": [],
   "source": [
    "# 월과 일수를 합쳐 파생변수 생성\n",
    "train['day_count'] = 99999\n",
    "test['day_count'] = 99999\n",
    "\n",
    "train.loc[train['month'] == 6, 'day_count'] = train['month'] * 30 + train['day']\n",
    "train.loc[~(train['month'] == 6), 'day_count'] = train['month'] * 31 + train['day']\n",
    "\n",
    "test.loc[~(test['month'] == 6), 'day_count'] = test['month'] * 31 + test['day']\n",
    "\n",
    "train['day_count_yesterday'] = train['day_count'].shift(1).fillna(method = 'backfill')\n",
    "train['day_count_tomorrow'] = train['day_count'].shift(-1).fillna(method = 'ffill')\n",
    "test['day_count_yesterday'] = test['day_count'].shift(1).fillna(method = 'backfill')\n",
    "test['day_count_tomorrow'] = test['day_count'].shift(-1).fillna(method = 'ffill')"
   ]
  },
  {
   "cell_type": "code",
   "execution_count": null,
   "metadata": {},
   "outputs": [],
   "source": [
    "# 월과 일수를 합쳐 파생변수 생성\n",
    "train['hour_count'] = 99999\n",
    "test['hour_count'] = 99999\n",
    "\n",
    "train.loc[train['month'] == 6, 'hour_count'] = train['month'] * 30 + train['day'] + train['hour'] / 24\n",
    "train.loc[~(train['month'] == 6), 'hour_count'] = train['month'] * 31 + train['day'] + train['hour'] / 24\n",
    "\n",
    "test.loc[~(test['month'] == 6), 'hour_count'] = test['month'] * 31 + test['day'] + train['hour'] / 24\n",
    "\n",
    "train['hour_count_yesterday'] = train['hour_count'].shift(1).fillna(method = 'backfill')\n",
    "train['hour_count_tomorrow'] = train['hour_count'].shift(-1).fillna(method = 'ffill')\n",
    "test['hour_count_yesterday'] = test['hour_count'].shift(1).fillna(method = 'backfill')\n",
    "test['hour_count_tomorrow'] = test['hour_count'].shift(-1).fillna(method = 'ffill')"
   ]
  },
  {
   "cell_type": "markdown",
   "metadata": {},
   "source": [
    "### 1-11. 냉방도일"
   ]
  },
  {
   "cell_type": "code",
   "execution_count": null,
   "metadata": {},
   "outputs": [],
   "source": [
    "# CDH feature추가\n",
    "def CDH(xs):\n",
    "    ys = []\n",
    "    for i in range(len(xs)):\n",
    "        if i < 11:\n",
    "            ys.append(np.sum(xs[:(i+1)]-26))\n",
    "        else:\n",
    "            ys.append(np.sum(xs[(i-11):(i+1)]-26))\n",
    "    return np.array(ys)"
   ]
  },
  {
   "cell_type": "code",
   "execution_count": null,
   "metadata": {},
   "outputs": [],
   "source": [
    "cdhs = np.array([])\n",
    "for num in range(1,61,1):\n",
    "    temp = train[train['num'] == num]\n",
    "    cdh = CDH(temp['기온(°C)'].values)\n",
    "    cdhs = np.concatenate([cdhs, cdh])\n",
    "train['CDH'] = cdhs\n",
    "\n",
    "\n",
    "cdhs = np.array([])\n",
    "for num in range(1,61,1):\n",
    "    temp = test[test['num'] == num]\n",
    "    cdh = CDH(temp['기온(°C)'].values)\n",
    "    cdhs = np.concatenate([cdhs, cdh])\n",
    "test['CDH'] = cdhs"
   ]
  },
  {
   "cell_type": "markdown",
   "metadata": {},
   "source": [
    "### 1-12. 태양광"
   ]
  },
  {
   "cell_type": "code",
   "execution_count": null,
   "metadata": {},
   "outputs": [],
   "source": [
    "train['태양광'] =  train['일조(hr)'] * train['태양광보유'] * train['강수량(mm)'].map(lambda x : np.exp(-x)) * train['풍속(m/s)'] / train['습도(%)'] * 100\n",
    "test['태양광'] =  test['일조(hr)'] * test['태양광보유'] * test['강수량(mm)'].map(lambda x : np.exp(-x)) * test['풍속(m/s)'] / test['습도(%)'] * 100"
   ]
  },
  {
   "cell_type": "markdown",
   "metadata": {},
   "source": [
    "### 1-13 1시간, 2시간 전 상황 고려"
   ]
  },
  {
   "cell_type": "code",
   "execution_count": null,
   "metadata": {},
   "outputs": [],
   "source": [
    "train['기온_1시간전'] = train['기온(°C)'].shift(1)\n",
    "train['기온_2시간전'] = train['기온(°C)'].shift(2)\n",
    "train['습도_1시간전'] = train['습도(%)'].shift(1)\n",
    "train['습도_2시간전'] = train['습도(%)'].shift(2)\n",
    "train['강수량_1시간전'] = train['강수량(mm)'].shift(1)\n",
    "train['강수량_2시간전'] = train['강수량(mm)'].shift(2)\n",
    "train['불쾌지수_1시간전'] = train['DI'].shift(1)\n",
    "train['불쾌지수_2시간전'] = train['DI'].shift(2)\n",
    "train['체감불쾌지수_1시간전'] = train['feel_DI'].shift(1)\n",
    "train['체감불쾌지수_2시간전'] = train['feel_DI'].shift(2)\n",
    "train['체감온도_1시간전'] = train['perceived_temperature'].shift(1)\n",
    "train['체감온도_2시간전'] = train['perceived_temperature'].shift(2)\n",
    "\n",
    "\n",
    "test['기온_1시간전'] = test['기온(°C)'].shift(1)\n",
    "test['기온_2시간전'] = test['기온(°C)'].shift(2)\n",
    "test['습도_1시간전'] = test['습도(%)'].shift(1)\n",
    "test['습도_2시간전'] = test['습도(%)'].shift(2)\n",
    "test['강수량_1시간전'] = test['강수량(mm)'].shift(1)\n",
    "test['강수량_2시간전'] = test['강수량(mm)'].shift(2)\n",
    "test['불쾌지수_1시간전'] = test['DI'].shift(1)\n",
    "test['불쾌지수_2시간전'] = test['DI'].shift(2)\n",
    "test['체감불쾌지수_1시간전'] = test['feel_DI'].shift(1)\n",
    "test['체감불쾌지수_2시간전'] = test['feel_DI'].shift(2)\n",
    "test['체감온도_1시간전'] = test['perceived_temperature'].shift(1)\n",
    "test['체감온도_2시간전'] = test['perceived_temperature'].shift(2)\n",
    "\n",
    "train = train.fillna(method = 'backfill')\n",
    "test = test.fillna(method = 'backfill')"
   ]
  },
  {
   "cell_type": "markdown",
   "metadata": {},
   "source": [
    "### 1-14. 코로나 컬럼 추가"
   ]
  },
  {
   "cell_type": "code",
   "execution_count": null,
   "metadata": {},
   "outputs": [],
   "source": [
    "month=np.array(train.month)\n",
    "day=np.array(train.day)\n",
    "\n",
    "corona=[]\n",
    "for m,d in zip(month,day):\n",
    "    if m==8 and d>=16:\n",
    "        corona.append(2)\n",
    "    else:\n",
    "        corona.append(1)\n",
    "corona2=[]\n",
    "for i in range(len(test)):\n",
    "    corona2.append(2)\n",
    "train['corona']=corona\n",
    "test['corona']=corona2"
   ]
  },
  {
   "cell_type": "markdown",
   "metadata": {},
   "source": [
    "### 1-15 누적강수시간"
   ]
  },
  {
   "cell_type": "code",
   "execution_count": null,
   "metadata": {},
   "outputs": [],
   "source": [
    "def cumulative_rain_hour(idx, data, data_type):\n",
    "    count = 0\n",
    "\n",
    "    while True:\n",
    "        \n",
    "        # 0일때만 예외처리\n",
    "        if (data_type == 'train') & (idx == 0):\n",
    "            count = 1\n",
    "            break\n",
    "            \n",
    "        elif (data_type == 'test') & (idx == 0):\n",
    "            count = 0\n",
    "            break\n",
    "            \n",
    "        \n",
    "        if data.loc[idx-count, '강수량(mm)'] == 0:\n",
    "            break\n",
    "            \n",
    "        else:\n",
    "            count += 1\n",
    "            \n",
    "        if idx-count <= 0:\n",
    "            count += 1\n",
    "            break\n",
    "            \n",
    "    return count\n",
    "\n",
    "train['누적강수시간'] = [cumulative_rain_hour(idx, train, 'train') for idx in range(train.shape[0])]\n",
    "test['누적강수시간'] = [cumulative_rain_hour(idx, test, 'test') for idx in range(test.shape[0])]"
   ]
  },
  {
   "cell_type": "markdown",
   "metadata": {},
   "source": [
    "### 1-16. 일평균일조량"
   ]
  },
  {
   "cell_type": "code",
   "execution_count": null,
   "metadata": {},
   "outputs": [],
   "source": [
    "train = pd.merge(train, train.groupby('date')['일조(hr)'].agg({'mean'}), how='left', on='date').rename(columns={'mean':'일평균일조량'})\n",
    "test = pd.merge(test, test.groupby('date')['일조(hr)'].agg({'mean'}), how='left', on='date').rename(columns={'mean':'일평균일조량'})"
   ]
  },
  {
   "cell_type": "markdown",
   "metadata": {},
   "source": [
    "### 1-17. 폭염지수"
   ]
  },
  {
   "cell_type": "code",
   "execution_count": null,
   "metadata": {},
   "outputs": [],
   "source": [
    "final_pokyeom = []\n",
    "for j in range(1,61):\n",
    "    a = list(train[train.num == j].groupby('date')['기온(°C)'].max().values)\n",
    "    b = []\n",
    "    for i in range(len(a)-1):\n",
    "        if a[i] >= 35:\n",
    "            if a[i+1] >= 35:\n",
    "                b.append(2)\n",
    "            elif a[i+1] >= 33:\n",
    "                b.append(1)\n",
    "            else:\n",
    "                b.append(0)\n",
    "        elif 33 <= a[i] <= 35:\n",
    "            if a[i+1] >= 33:\n",
    "                b.append(1)\n",
    "            else:\n",
    "                b.append(0)\n",
    "        else:\n",
    "            b.append(0)\n",
    "\n",
    "\n",
    "    b.append(b[-1])\n",
    "    for k in b:\n",
    "        for o in range(24):\n",
    "            final_pokyeom.append(k)\n",
    "            \n",
    "            \n",
    "train['폭염주의_폭염경보'] = final_pokyeom"
   ]
  },
  {
   "cell_type": "code",
   "execution_count": null,
   "metadata": {},
   "outputs": [],
   "source": [
    "final_pokyeom = []\n",
    "for j in range(1,61):\n",
    "    a = list(test[test.num == j].groupby('date')['기온(°C)'].max().values)\n",
    "    b = []\n",
    "    for i in range(len(a)-1):\n",
    "        if a[i] >= 35:\n",
    "            if a[i+1] >= 35:\n",
    "                b.append(2)\n",
    "            elif a[i+1] >= 33:\n",
    "                b.append(1)\n",
    "            else:\n",
    "                b.append(0)\n",
    "        elif 33 <= a[i] <= 35:\n",
    "            if a[i+1] >= 33:\n",
    "                b.append(1)\n",
    "            else:\n",
    "                b.append(0)\n",
    "        else:\n",
    "            b.append(0)\n",
    "\n",
    "\n",
    "    b.append(b[-1])\n",
    "    for k in b:\n",
    "        for o in range(24):\n",
    "            final_pokyeom.append(k)\n",
    "            \n",
    "test['폭염주의_폭염경보'] = final_pokyeom"
   ]
  },
  {
   "cell_type": "markdown",
   "metadata": {},
   "source": [
    "### 1-18. 표준편차 변수 추가"
   ]
  },
  {
   "cell_type": "code",
   "execution_count": null,
   "metadata": {},
   "outputs": [],
   "source": [
    "# 60개의 건물 그룹화\n",
    "num_groups = train.groupby(\"num\")\n",
    "\n",
    "# 건물 번호 매칭을 위해 빈 리스트 하나 추가 후 진행\n",
    "group_list = [[]]\n",
    "for i in range(1,61):\n",
    "    group_list.append(num_groups.get_group(i))\n",
    "\n",
    "# 건물별 표준편차(168)개 담을 DataFrame 생성\n",
    "std_df=pd.DataFrame()\n",
    "\n",
    "for num in range(1,60+1):\n",
    "    std_df = std_df.append((group_list[num][:2040-24].pivot_table(index='weekday',columns='hour', values='전력사용량(kWh)', aggfunc='std')/group_list[num][:2040-24]['전력사용량(kWh)'].median()).mul(100).unstack().to_frame().T)\n",
    "\n",
    "std_df['num'] = range(1,60+1)\n",
    "std_df.set_index('num',inplace=True)"
   ]
  },
  {
   "cell_type": "code",
   "execution_count": null,
   "metadata": {},
   "outputs": [],
   "source": [
    "std_df2 = std_df.stack(0).stack(0).reset_index().rename(columns={0:'std'})\n",
    "train = train.merge(std_df2, on=['num','hour','weekday'], how='inner')\n",
    "test = test.merge(std_df2, on=['num','hour','weekday'], how='inner')"
   ]
  },
  {
   "cell_type": "markdown",
   "metadata": {},
   "source": [
    "### 1-19. 중앙값 변수 추가"
   ]
  },
  {
   "cell_type": "code",
   "execution_count": null,
   "metadata": {},
   "outputs": [],
   "source": [
    "# 건물별 중앙값(168)개 담을 DataFrame 생성\n",
    "median_df=pd.DataFrame()\n",
    "\n",
    "for num in range(1,60+1):\n",
    "\n",
    "  # 건물별 \n",
    "  median_df = median_df.append(group_list[num][:2040-24].pivot_table(index='weekday',columns='hour', values='전력사용량(kWh)', aggfunc='median').unstack().to_frame().T)\n",
    "\n",
    "median_df['num'] = range(1,60+1)\n",
    "median_df.set_index('num',inplace=True)"
   ]
  },
  {
   "cell_type": "code",
   "execution_count": null,
   "metadata": {},
   "outputs": [],
   "source": [
    "# 피처 생성\n",
    "median_df = median_df.unstack().rename(\"median_effect\")\n",
    "train = train.merge(median_df, how='left', left_on=['hour','weekday', 'num'], right_index=True)\n",
    "test = test.merge(median_df, how='left', left_on=['hour','weekday', 'num'], right_index=True)"
   ]
  },
  {
   "cell_type": "markdown",
   "metadata": {},
   "source": [
    "### 1-20. OnehotEncoding(weekday, hour)"
   ]
  },
  {
   "cell_type": "code",
   "execution_count": null,
   "metadata": {},
   "outputs": [],
   "source": [
    "from sklearn.preprocessing import OneHotEncoder\n",
    "\n",
    "# 정의\n",
    "enc = OneHotEncoder()\n",
    "\n",
    "# train\n",
    "object_col = ['hour','weekday','day', 'month']\n",
    "\n",
    "enc.fit(train.loc[:,object_col])\n",
    "\n",
    "train_onehot_df = pd.DataFrame(enc.transform(train.loc[:,object_col]).toarray(), \n",
    "             columns=enc.get_feature_names(object_col))\n",
    "#train.drop(object_col, axis=1, inplace=True)\n",
    "train = pd.concat([train, train_onehot_df], axis=1)\n",
    "\n",
    "# test\n",
    "test_onehot_df = pd.DataFrame(enc.transform(test.loc[:,object_col]).toarray(), \n",
    "             columns=enc.get_feature_names(object_col))\n",
    "test.reset_index(drop=True, inplace=True)\n",
    "#test.drop(object_col, axis=1, inplace=True)\n",
    "test = pd.concat([test, test_onehot_df], axis=1)"
   ]
  },
  {
   "cell_type": "markdown",
   "metadata": {},
   "source": [
    "### 1-21. 주말평일+시간별 전력사용량 변수 추가"
   ]
  },
  {
   "cell_type": "code",
   "execution_count": null,
   "metadata": {},
   "outputs": [],
   "source": [
    "df_tmp = pd.DataFrame()\n",
    "\n",
    "for num in range(1,61):\n",
    "    tmp = train[train['num'] == num]\n",
    "    tmp = (tmp.groupby(['weekend_bool','hour'])['전력사용량(kWh)'].mean() / tmp['전력사용량(kWh)'].median()).reset_index().rename(columns={'전력사용량(kWh)':'주말평일_시간별전력량'})\n",
    "    tmp['num'] = num\n",
    "    \n",
    "    df_tmp = df_tmp.append(tmp, ignore_index=True)\n",
    "    \n",
    "train = train.merge(df_tmp, on=['num','weekend_bool','hour'], how='left')\n",
    "test = test.merge(df_tmp, on=['num','weekend_bool','hour'], how='left')"
   ]
  },
  {
   "cell_type": "markdown",
   "metadata": {},
   "source": [
    "### 1-22 .주별 전력사용량 표준편차 및 평균"
   ]
  },
  {
   "cell_type": "code",
   "execution_count": null,
   "metadata": {},
   "outputs": [],
   "source": [
    "# 주별 전력사용량 표준편차 및 평균 --> 건물별 적합 실시 (마지막단계에 해보자)\n",
    "\n",
    "for num in range(1,61):\n",
    "    \n",
    "    week_mean_dict = train[train['num']==num].groupby('week')['전력사용량(kWh)'].mean()\n",
    "    week_std_dict = train[train['num']==num].groupby('week')['전력사용량(kWh)'].std()\n",
    "    \n",
    "    train.loc[train['num'] == num, 'week_mean'] = train['week'].map(week_mean_dict)\n",
    "    test.loc[test['num'] == num, 'week_mean'] = test['week'].map(week_mean_dict)\n",
    "    train.loc[train['num'] == num, 'week_std'] = train['week'].map(week_std_dict)\n",
    "    test.loc[test['num'] == num, 'week_std'] = test['week'].map(week_std_dict)"
   ]
  },
  {
   "cell_type": "markdown",
   "metadata": {},
   "source": [
    "### 1-23. 시간 --> cosine encoding"
   ]
  },
  {
   "cell_type": "code",
   "execution_count": null,
   "metadata": {},
   "outputs": [],
   "source": [
    "train['hour'] = train['hour'].astype('int')\n",
    "test['hour'] = test['hour'].astype('int')\n",
    "\n",
    "train['cos_hour'] = np.cos(2*np.pi*train['hour']/24)\n",
    "test['cos_hour'] = np.cos(2*np.pi*test['hour']/24)"
   ]
  },
  {
   "cell_type": "markdown",
   "metadata": {},
   "source": [
    "### 1-9999. 빼야할 Column은 배제하기"
   ]
  },
  {
   "cell_type": "code",
   "execution_count": null,
   "metadata": {},
   "outputs": [],
   "source": [
    "drop_cols = ['date_time', 'date', 'week_mean', 'week_std'] # week_mean과 week_std는 test에서 null값이 존재하기에 배제\n",
    "train.drop(drop_cols, axis=1, inplace=True)\n",
    "test.drop(drop_cols, axis=1, inplace=True)"
   ]
  },
  {
   "cell_type": "markdown",
   "metadata": {
    "id": "cFCoBlZqsJle"
   },
   "source": [
    "## 2. Modeling\n",
    "- K-fold로 모델을 구성 및 Stacking 앙상블 실시합니다"
   ]
  },
  {
   "cell_type": "code",
   "execution_count": null,
   "metadata": {
    "executionInfo": {
     "elapsed": 723,
     "status": "ok",
     "timestamp": 1621328320354,
     "user": {
      "displayName": "조요한",
      "photoUrl": "",
      "userId": "00920397089810622068"
     },
     "user_tz": -540
    },
    "id": "7ed49688"
   },
   "outputs": [],
   "source": [
    "X = train.drop(['전력사용량(kWh)'], axis = 1) # 건물별 적합하기에 모두 같은값들은 제거하자.\n",
    "y = train['전력사용량(kWh)']\n",
    "\n",
    "X_test = test.copy()"
   ]
  },
  {
   "cell_type": "markdown",
   "metadata": {},
   "source": [
    "### 1. 파라미터 찾기"
   ]
  },
  {
   "cell_type": "code",
   "execution_count": null,
   "metadata": {},
   "outputs": [],
   "source": [
    "def SMAPE_RF(y_pred, y_true):\n",
    " \n",
    "    v = 2 * abs(y_pred - y_true) / (abs(y_pred) + abs(y_true))\n",
    "    SMAPE = - (np.mean(v) * 100)\n",
    "    \n",
    "    return SMAPE"
   ]
  },
  {
   "cell_type": "code",
   "execution_count": null,
   "metadata": {},
   "outputs": [],
   "source": [
    "def rf_evaluate(max_depth, min_samples_split, min_samples_leaf):\n",
    "    params = {\n",
    "        'max_depth': int(max_depth),\n",
    "        'min_samples_split' : int(round(min_samples_split)),\n",
    "        'min_samples_leaf' : int(round(min_samples_leaf))}\n",
    "    \n",
    "    RF = RandomForestRegressor(**params,random_state = 42, n_estimators = 500)\n",
    "    kf = KFold(n_splits=5, random_state=42, shuffle=True)\n",
    "    scores = cross_val_score(RF, X, y, cv=kf, scoring=make_scorer(SMAPE_RF, greater_is_better=True))\n",
    "    \n",
    "    return np.mean(scores)"
   ]
  },
  {
   "cell_type": "code",
   "execution_count": null,
   "metadata": {
    "scrolled": true
   },
   "outputs": [],
   "source": [
    "rf_params = {}\n",
    "\n",
    "for BUILDING_NUM in range(1,61):\n",
    "    \n",
    "    print(f'\\n\\n================== 건물명: {BUILDING_NUM} 시작!! ==================')\n",
    "\n",
    "    tmp = train[train['num'] == BUILDING_NUM].drop('num', axis=1).reset_index(drop=True)\n",
    "    X = tmp.drop(['전력사용량(kWh)'], axis = 1)\n",
    "    X = X.drop(['비전기냉방설비운영', '태양광보유', 'cluster'], axis = 1) # 건물별로 동일한 값은 제거\n",
    "    X[['weekday','week','next_week']] = X[['weekday','week','next_week']].astype('int')\n",
    "    y = tmp['전력사용량(kWh)']\n",
    "\n",
    "    rfBO = BayesianOptimization(rf_evaluate, \n",
    "                             {'max_depth': (5,100),\n",
    "                             'min_samples_split':(5,100),\n",
    "                             'min_samples_leaf': (1,50),\n",
    "                              },\n",
    "                              random_state=42)\n",
    "\n",
    "    rfBO.maximize(init_points=5, n_iter=30) # 30\n",
    "\n",
    "    rf_param = rfBO.max['params']\n",
    "    rf_param['learning_rate'] = 0.01\n",
    "    rf_params[BUILDING_NUM] = rf_param"
   ]
  },
  {
   "cell_type": "markdown",
   "metadata": {},
   "source": [
    "### 2. 모델에 대입"
   ]
  },
  {
   "cell_type": "code",
   "execution_count": null,
   "metadata": {},
   "outputs": [],
   "source": [
    "def smape(A, F):\n",
    "    \n",
    "    return 100/len(A) * np.sum(2 * np.abs(F - A) / (np.abs(A) + np.abs(F)))"
   ]
  },
  {
   "cell_type": "code",
   "execution_count": null,
   "metadata": {
    "scrolled": true
   },
   "outputs": [],
   "source": [
    "n_splits = 5\n",
    "rf_models={}\n",
    "model_name = []\n",
    "valid_prediction = []\n",
    "valid_label = []\n",
    "valid_SMAPE = []\n",
    "\n",
    "for BUILDING_NUM in range(1,61):\n",
    "    \n",
    "    print(f'\\n\\n================== 건물명: {BUILDING_NUM} 시작!! ==================')\n",
    "\n",
    "    step = 1\n",
    "    cv = KFold(n_splits = n_splits, shuffle = True, random_state=42)\n",
    "    \n",
    "    tmp = train[train['num'] == BUILDING_NUM].drop('num', axis=1).reset_index(drop=True)\n",
    "    tmp = tmp.drop(['비전기냉방설비운영', '태양광보유', 'cluster'], axis = 1) # 건물별로 동일한 값은 제거\n",
    "    X = tmp.drop(['전력사용량(kWh)'], axis = 1)\n",
    "    X[['weekday','week','next_week']] = X[['weekday','week','next_week']].astype('int')\n",
    "    y = tmp['전력사용량(kWh)']\n",
    "    \n",
    "    rf_final_param = {\n",
    "                      \"min_samples_leaf\" : 10,\n",
    "                      \"min_samples_split\" : 10,\n",
    "                      \"max_depth\": -1\n",
    "                      }\n",
    "    \n",
    "    rf_final_param['min_samples_leaf'] = int(rf_params[BUILDING_NUM]['min_samples_leaf'])\n",
    "    rf_final_param['min_samples_split'] = int(rf_params[BUILDING_NUM]['min_samples_split'])\n",
    "    rf_final_param['max_depth'] = rf_params[BUILDING_NUM]['max_depth']\n",
    "    \n",
    "    for tr_idx, val_idx in cv.split(X):\n",
    "        print(f'\\n\\n ============================ {step} ============================')\n",
    "        \n",
    "        X_train = X.iloc[tr_idx, :].values\n",
    "        y_train = y[tr_idx].values\n",
    "\n",
    "        X_valid = X.iloc[val_idx, :].values\n",
    "        y_valid = y[val_idx].values\n",
    "\n",
    "        rf_model = RandomForestRegressor(**rf_final_param, random_state = 42, n_estimators = 200)\n",
    "        rf_model.fit(X_train,y_train)\n",
    "        \n",
    "        # 모델저장\n",
    "        dict_key = f'{BUILDING_NUM}_{step}'\n",
    "        rf_models[dict_key] = rf_model\n",
    "        \n",
    "        # 데이터프레임 적재\n",
    "        model_name.append(dict_key)\n",
    "        valid_prediction.append(rf_model.predict(X_valid))\n",
    "        valid_label.append(y_valid.tolist())\n",
    "        valid_SMAPE.append(smape(y_valid, rf_model.predict(X_valid)))\n",
    "        \n",
    "        \n",
    "        # log & step += 1\n",
    "        print(f'SMAPE: {round(smape(y_valid, rf_model.predict(X_valid)), 5)}')\n",
    "        step += 1\n",
    "    \n",
    "df_rf_predict = pd.DataFrame({'모델명':model_name, 'y_pred':valid_prediction, 'y_true':valid_label, 'SMAPE':valid_SMAPE})"
   ]
  },
  {
   "cell_type": "code",
   "execution_count": null,
   "metadata": {},
   "outputs": [],
   "source": [
    "# 4, 15, 18, 34, 42, 59 --> 훈련이상해,,"
   ]
  },
  {
   "cell_type": "markdown",
   "metadata": {},
   "source": [
    "# Submission"
   ]
  },
  {
   "cell_type": "code",
   "execution_count": null,
   "metadata": {},
   "outputs": [],
   "source": [
    "X_test[['hour','weekday','week','next_week']] = X_test[['hour','weekday','week','next_week']].astype('int')\n",
    "X_test.dtypes"
   ]
  },
  {
   "cell_type": "code",
   "execution_count": null,
   "metadata": {},
   "outputs": [],
   "source": [
    "answer_list = []\n",
    "model_name = []\n",
    "test_prediction = []\n",
    "\n",
    "for BUILDING_NUM in range(1,61):\n",
    "    \n",
    "    if BUILDING_NUM % 10 == 0:\n",
    "        print(f'== 건물명: {BUILDING_NUM} 시작!! ==')\n",
    "    \n",
    "    values = []\n",
    "    tmp = X_test[X_test['num'] == BUILDING_NUM].reset_index(drop=True).drop('num', axis=1)\n",
    "    tmp = tmp.drop(['비전기냉방설비운영', '태양광보유', 'cluster'], axis = 1) # 건물별로 동일한 값은 제거\n",
    "\n",
    "    for step in range(1,1+n_splits):\n",
    "\n",
    "        dict_key = f'{BUILDING_NUM}_{step}'\n",
    "        value = pd.Series(rf_models[dict_key].predict(tmp) / n_splits)\n",
    "        \n",
    "        if step == 1:\n",
    "            values = value.copy()\n",
    "        else:\n",
    "            values += value\n",
    "        \n",
    "        # 데이터프레임에 적재\n",
    "        model_name.append(dict_key)\n",
    "        test_prediction.append(rf_models[dict_key].predict(tmp).tolist())\n",
    "    \n",
    "    answer_list.extend(values.tolist())\n",
    "df_rf_predict2 = pd.DataFrame({'모델명':model_name, 'y_pred':test_prediction})"
   ]
  },
  {
   "cell_type": "code",
   "execution_count": null,
   "metadata": {},
   "outputs": [],
   "source": [
    "df_rf_predict = df_rf_predict.rename(columns={'y_pred':'valid_pred','y_true':'valid_true','SMAPE':'vaild_SMAPE'})\n",
    "df_rf_predict2 = df_rf_predict2.rename(columns={'y_pred':'test_pred'})\n",
    "df_rf_predict_concat = pd.merge(df_rf_predict, df_rf_predict2, on='모델명')\n",
    "df_rf_predict_concat.to_csv('df_rf_prediction.csv', index=False, encoding='cp949')"
   ]
  },
  {
   "cell_type": "code",
   "execution_count": null,
   "metadata": {},
   "outputs": [],
   "source": [
    "submission = sample_submission.copy()\n",
    "submission['answer'] = answer_list\n",
    "submission.to_csv('submission_0622(XGB_스태킹_앙상블).csv', index= False) "
   ]
  }
 ],
 "metadata": {
  "colab": {
   "collapsed_sections": [],
   "name": "[Baseline]전력사용량예측.ipynb",
   "provenance": []
  },
  "kernelspec": {
   "display_name": "Python 3",
   "language": "python",
   "name": "python3"
  },
  "language_info": {
   "codemirror_mode": {
    "name": "ipython",
    "version": 3
   },
   "file_extension": ".py",
   "mimetype": "text/x-python",
   "name": "python",
   "nbconvert_exporter": "python",
   "pygments_lexer": "ipython3",
   "version": "3.8.5"
  }
 },
 "nbformat": 4,
 "nbformat_minor": 5
}
