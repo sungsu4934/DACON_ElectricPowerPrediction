{
 "cells": [
  {
   "cell_type": "code",
   "execution_count": null,
   "metadata": {
    "executionInfo": {
     "elapsed": 1291,
     "status": "ok",
     "timestamp": 1621327525302,
     "user": {
      "displayName": "조요한",
      "photoUrl": "",
      "userId": "00920397089810622068"
     },
     "user_tz": -540
    },
    "id": "a163be01"
   },
   "outputs": [],
   "source": [
    "import matplotlib.pyplot as plt\n",
    "import numpy as np\n",
    "import pandas as pd\n",
    "import seaborn as sns\n",
    "import math\n",
    "from sklearn.cluster import KMeans\n",
    "import warnings\n",
    "\n",
    "warnings.filterwarnings(action='ignore')\n",
    "\n",
    "\n",
    "\n",
    "\n",
    "plt.rcParams['font.family'] = 'NanumBarunGothic'\n",
    "%config inlinebackend.figure_format = 'retina'\n",
    "plt.rcParams['figure.dpi'] = 100 "
   ]
  },
  {
   "cell_type": "markdown",
   "metadata": {
    "id": "6hCMP8ZOo42u"
   },
   "source": [
    "## 0. 데이터 전처리"
   ]
  },
  {
   "cell_type": "code",
   "execution_count": null,
   "metadata": {
    "executionInfo": {
     "elapsed": 733,
     "status": "ok",
     "timestamp": 1621327525908,
     "user": {
      "displayName": "조요한",
      "photoUrl": "",
      "userId": "00920397089810622068"
     },
     "user_tz": -540
    },
    "id": "4f250df3"
   },
   "outputs": [],
   "source": [
    "train = pd.read_csv('train.csv', encoding='cp949')\n",
    "test = pd.read_csv('test.csv', encoding='cp949')\n",
    "test = test.rename(columns={'강수량(mm, 6시간)':'강수량(mm)',\n",
    "                    '일조(hr, 3시간)':'일조(hr)'})\n",
    "train['date_time'] = pd.to_datetime(train['date_time'])\n",
    "test['date_time'] = pd.to_datetime(test['date_time'])\n",
    "\n",
    "\n",
    "sample_submission = pd.read_csv('sample_submission.csv', encoding='cp949')\n",
    "\n",
    "print(f'Train: {train.shape}')\n",
    "print(f'Test: {test.shape}')\n",
    "print(f'Submission: {sample_submission.shape}')"
   ]
  },
  {
   "cell_type": "markdown",
   "metadata": {
    "id": "RBMPRHYOsXn5"
   },
   "source": [
    "#### 날짜 변수 전처리"
   ]
  },
  {
   "cell_type": "code",
   "execution_count": null,
   "metadata": {
    "executionInfo": {
     "elapsed": 600,
     "status": "ok",
     "timestamp": 1621327602943,
     "user": {
      "displayName": "조요한",
      "photoUrl": "",
      "userId": "00920397089810622068"
     },
     "user_tz": -540
    },
    "id": "a2c9192d"
   },
   "outputs": [],
   "source": [
    "# hour, month 등 변수 추가\n",
    "train['hour'] = train['date_time'].dt.hour\n",
    "train['month'] = train['date_time'].dt.month\n",
    "train['day'] = train['date_time'].dt.day\n",
    "train['weekday'] = train['date_time'].dt.weekday\n",
    "train['date'] = train['date_time'].dt.date\n",
    "\n",
    "test['hour'] = test['date_time'].dt.hour\n",
    "test['month'] = test['date_time'].dt.month\n",
    "test['day'] = test['date_time'].dt.day\n",
    "test['weekday'] = test['date_time'].dt.weekday\n",
    "test['date'] = test['date_time'].dt.date"
   ]
  },
  {
   "cell_type": "markdown",
   "metadata": {
    "id": "pjJ4Lo5ZqHl-"
   },
   "source": [
    "### 1. 건물의 시간별, 요일별 히트맵"
   ]
  },
  {
   "cell_type": "code",
   "execution_count": null,
   "metadata": {},
   "outputs": [],
   "source": [
    "def building_heatmap(num):\n",
    "    \n",
    "    fig = plt.figure(figsize = (2, 3))\n",
    "    temp = train[train.num == num]\n",
    "    temp = temp.groupby(['weekday', 'hour'])['전력사용량(kWh)'].median().reset_index().pivot('weekday', 'hour', '전력사용량(kWh)')\n",
    "    sns.heatmap(temp)\n",
    "    plt.title(f'building {num}')\n",
    "    plt.xlabel('')\n",
    "    plt.ylabel('')\n",
    "    plt.yticks([])\n",
    "    \n",
    "building_heatmap(4)"
   ]
  },
  {
   "cell_type": "markdown",
   "metadata": {},
   "source": [
    "### 2. 건물의 요일별 및 시간별 전력소모량 파악"
   ]
  },
  {
   "cell_type": "code",
   "execution_count": null,
   "metadata": {},
   "outputs": [],
   "source": [
    "def hour_and_weekday(num):\n",
    "    \n",
    "    temp = train[train.num == num]\n",
    "    temp = temp.groupby(['weekday', 'hour'])['전력사용량(kWh)'].median().reset_index().pivot('weekday', 'hour', '전력사용량(kWh)')\n",
    "\n",
    "    temp1 = temp.mean(axis=1)\n",
    "    temp2 = temp.mean(axis=0)\n",
    "        \n",
    "    fig = plt.figure(figsize = (12, 4))\n",
    "    \n",
    "    plt.subplot(121)\n",
    "    plt.plot(temp1.values)\n",
    "    sns.barplot(temp1.index, temp1.values)\n",
    "    \n",
    "    plt.subplot(122)\n",
    "    plt.plot(temp2.values)\n",
    "    sns.barplot(temp2.index, temp2.values)\n",
    "    \n",
    "    plt.show()\n",
    "    \n",
    "    \n",
    "hour_and_weekday(4)"
   ]
  },
  {
   "cell_type": "markdown",
   "metadata": {},
   "source": [
    "### 3. 요일 내에서 시각화"
   ]
  },
  {
   "cell_type": "code",
   "execution_count": null,
   "metadata": {},
   "outputs": [],
   "source": [
    "def each_weekday(num):\n",
    "\n",
    "    temp = train[train.num == num]\n",
    "    temp = temp.groupby(['weekday', 'hour'])['전력사용량(kWh)'].median().reset_index().pivot('weekday', 'hour', '전력사용량(kWh)')\n",
    "\n",
    "    fig = plt.figure(figsize = (16, 4))\n",
    "\n",
    "    for idx in range(7):\n",
    "        plt.subplot(1,7,idx+1)\n",
    "        plt.title(idx)\n",
    "        plt.ylim(temp.min().min(), temp.max().max())\n",
    "        sns.barplot(temp.loc[idx,:].index, temp.loc[idx,:].values)\n",
    "        \n",
    "each_weekday(59)"
   ]
  },
  {
   "cell_type": "markdown",
   "metadata": {},
   "source": [
    "### 4. 시간 내에서 시각화"
   ]
  },
  {
   "cell_type": "code",
   "execution_count": null,
   "metadata": {},
   "outputs": [],
   "source": [
    "def each_hour(num):\n",
    "\n",
    "    temp = train[train.num == num]\n",
    "    temp = temp.groupby(['weekday', 'hour'])['전력사용량(kWh)'].median().reset_index().pivot('weekday', 'hour', '전력사용량(kWh)')\n",
    "\n",
    "    fig = plt.figure(figsize = (16, 4))\n",
    "    \n",
    "    plt.plot(temp)\n",
    "    \n",
    "    for idx in range(23):\n",
    "        #plt.subplot(23,1,idx+1)\n",
    "        #plt.title(idx)\n",
    "        #plt.ylim(temp.min().min(), temp.max().max())\n",
    "        #sns.barplot(temp[idx].index, temp[idx].values)\n",
    "        plt.plot(temp[idx])\n",
    "        \n",
    "    \n",
    "each_hour(59)"
   ]
  },
  {
   "cell_type": "markdown",
   "metadata": {},
   "source": [
    "### 5. 요일만 같으면 전력소비현황이 시간별로 비슷할까?"
   ]
  },
  {
   "cell_type": "code",
   "execution_count": null,
   "metadata": {
    "scrolled": true
   },
   "outputs": [],
   "source": [
    "weekday_ = 0 # 월요일\n",
    "\n",
    "for num in range(1,61):\n",
    "    temp = train[train.num == num]\n",
    "    temp = temp[temp['weekday'] == weekday_].reset_index(drop=True)\n",
    "    temp['date'] = temp['month'].astype('str') + '/' + pd.Series(map(lambda x: x.zfill(2), temp['day'].astype('str'))).astype('str')\n",
    "    temp = temp.groupby(['date', 'hour'])['전력사용량(kWh)'].median().reset_index().pivot('date', 'hour', '전력사용량(kWh)')\n",
    "    temp = temp.sort_index()\n",
    "\n",
    "    fig = plt.figure(figsize = (16, 4))\n",
    "\n",
    "    for idx, day in zip(range(temp.shape[0]), temp.index):\n",
    "\n",
    "        plt.subplot(1,temp.shape[0],idx+1)\n",
    "        plt.title(f'B{num}_{day}')\n",
    "        plt.ylim(temp.min().min(), temp.max().max())\n",
    "\n",
    "        ax = plt.gca()\n",
    "        ax.axes.xaxis.set_visible(False)\n",
    "        ax.axes.yaxis.set_visible(False)\n",
    "        sns.barplot(temp.iloc[idx,:].index, temp.iloc[idx,:].values)"
   ]
  },
  {
   "cell_type": "code",
   "execution_count": null,
   "metadata": {
    "scrolled": true
   },
   "outputs": [],
   "source": [
    "weekday_ = 1 # 화요일\n",
    "\n",
    "for num in range(1,61):\n",
    "    temp = train[train.num == num]\n",
    "    temp = temp[temp['weekday'] == weekday_].reset_index(drop=True)\n",
    "    temp['date'] = temp['month'].astype('str') + '/' + pd.Series(map(lambda x: x.zfill(2), temp['day'].astype('str'))).astype('str')\n",
    "    temp = temp.groupby(['date', 'hour'])['전력사용량(kWh)'].median().reset_index().pivot('date', 'hour', '전력사용량(kWh)')\n",
    "    temp = temp.sort_index()\n",
    "\n",
    "    fig = plt.figure(figsize = (16, 4))\n",
    "\n",
    "    for idx, day in zip(range(temp.shape[0]), temp.index):\n",
    "\n",
    "        plt.subplot(1,temp.shape[0],idx+1)\n",
    "        plt.title(f'B{num}_{day}')\n",
    "        plt.ylim(temp.min().min(), temp.max().max())\n",
    "\n",
    "        ax = plt.gca()\n",
    "        ax.axes.xaxis.set_visible(False)\n",
    "        ax.axes.yaxis.set_visible(False)\n",
    "        sns.barplot(temp.iloc[idx,:].index, temp.iloc[idx,:].values)"
   ]
  },
  {
   "cell_type": "code",
   "execution_count": null,
   "metadata": {},
   "outputs": [],
   "source": [
    "weekday_ = 2 # 수요일\n",
    "\n",
    "for num in range(1,61):\n",
    "    temp = train[train.num == num]\n",
    "    temp = temp[temp['weekday'] == weekday_].reset_index(drop=True)\n",
    "    temp['date'] = temp['month'].astype('str') + '/' + pd.Series(map(lambda x: x.zfill(2), temp['day'].astype('str'))).astype('str')\n",
    "    temp = temp.groupby(['date', 'hour'])['전력사용량(kWh)'].median().reset_index().pivot('date', 'hour', '전력사용량(kWh)')\n",
    "    temp = temp.sort_index()\n",
    "\n",
    "    fig = plt.figure(figsize = (16, 4))\n",
    "\n",
    "    for idx, day in zip(range(temp.shape[0]), temp.index):\n",
    "\n",
    "        plt.subplot(1,temp.shape[0],idx+1)\n",
    "        plt.title(f'B{num}_{day}')\n",
    "        plt.ylim(temp.min().min(), temp.max().max())\n",
    "\n",
    "        ax = plt.gca()\n",
    "        ax.axes.xaxis.set_visible(False)\n",
    "        ax.axes.yaxis.set_visible(False)\n",
    "        sns.barplot(temp.iloc[idx,:].index, temp.iloc[idx,:].values)"
   ]
  },
  {
   "cell_type": "code",
   "execution_count": null,
   "metadata": {},
   "outputs": [],
   "source": [
    "weekday_ = 3 # 목요일\n",
    "\n",
    "for num in range(1,61):\n",
    "    temp = train[train.num == num]\n",
    "    temp = temp[temp['weekday'] == weekday_].reset_index(drop=True)\n",
    "    temp['date'] = temp['month'].astype('str') + '/' + pd.Series(map(lambda x: x.zfill(2), temp['day'].astype('str'))).astype('str')\n",
    "    temp = temp.groupby(['date', 'hour'])['전력사용량(kWh)'].median().reset_index().pivot('date', 'hour', '전력사용량(kWh)')\n",
    "    temp = temp.sort_index()\n",
    "\n",
    "    fig = plt.figure(figsize = (16, 4))\n",
    "\n",
    "    for idx, day in zip(range(temp.shape[0]), temp.index):\n",
    "\n",
    "        plt.subplot(1,temp.shape[0],idx+1)\n",
    "        plt.title(f'B{num}_{day}')\n",
    "        plt.ylim(temp.min().min(), temp.max().max())\n",
    "\n",
    "        ax = plt.gca()\n",
    "        ax.axes.xaxis.set_visible(False)\n",
    "        ax.axes.yaxis.set_visible(False)\n",
    "        sns.barplot(temp.iloc[idx,:].index, temp.iloc[idx,:].values)"
   ]
  },
  {
   "cell_type": "code",
   "execution_count": null,
   "metadata": {},
   "outputs": [],
   "source": [
    "weekday_ = 4 # 금요일\n",
    "\n",
    "for num in range(1,61):\n",
    "    temp = train[train.num == num]\n",
    "    temp = temp[temp['weekday'] == weekday_].reset_index(drop=True)\n",
    "    temp['date'] = temp['month'].astype('str') + '/' + pd.Series(map(lambda x: x.zfill(2), temp['day'].astype('str'))).astype('str')\n",
    "    temp = temp.groupby(['date', 'hour'])['전력사용량(kWh)'].median().reset_index().pivot('date', 'hour', '전력사용량(kWh)')\n",
    "    temp = temp.sort_index()\n",
    "\n",
    "    fig = plt.figure(figsize = (16, 4))\n",
    "\n",
    "    for idx, day in zip(range(temp.shape[0]), temp.index):\n",
    "\n",
    "        plt.subplot(1,temp.shape[0],idx+1)\n",
    "        plt.title(f'B{num}_{day}')\n",
    "        plt.ylim(temp.min().min(), temp.max().max())\n",
    "\n",
    "        ax = plt.gca()\n",
    "        ax.axes.xaxis.set_visible(False)\n",
    "        ax.axes.yaxis.set_visible(False)\n",
    "        sns.barplot(temp.iloc[idx,:].index, temp.iloc[idx,:].values)"
   ]
  },
  {
   "cell_type": "code",
   "execution_count": null,
   "metadata": {},
   "outputs": [],
   "source": [
    "weekday_ = 5 # 토요일\n",
    "\n",
    "for num in range(1,61):\n",
    "    temp = train[train.num == num]\n",
    "    temp = temp[temp['weekday'] == weekday_].reset_index(drop=True)\n",
    "    temp['date'] = temp['month'].astype('str') + '/' + pd.Series(map(lambda x: x.zfill(2), temp['day'].astype('str'))).astype('str')\n",
    "    temp = temp.groupby(['date', 'hour'])['전력사용량(kWh)'].median().reset_index().pivot('date', 'hour', '전력사용량(kWh)')\n",
    "    temp = temp.sort_index()\n",
    "\n",
    "    fig = plt.figure(figsize = (16, 4))\n",
    "\n",
    "    for idx, day in zip(range(temp.shape[0]), temp.index):\n",
    "\n",
    "        plt.subplot(1,temp.shape[0],idx+1)\n",
    "        plt.title(f'B{num}_{day}')\n",
    "        plt.ylim(temp.min().min(), temp.max().max())\n",
    "\n",
    "        ax = plt.gca()\n",
    "        ax.axes.xaxis.set_visible(False)\n",
    "        ax.axes.yaxis.set_visible(False)\n",
    "        sns.barplot(temp.iloc[idx,:].index, temp.iloc[idx,:].values)"
   ]
  },
  {
   "cell_type": "code",
   "execution_count": null,
   "metadata": {},
   "outputs": [],
   "source": [
    "weekday_ = 6 # 일요일\n",
    "\n",
    "for num in range(1,61):\n",
    "    temp = train[train.num == num]\n",
    "    temp = temp[temp['weekday'] == weekday_].reset_index(drop=True)\n",
    "    temp['date'] = temp['month'].astype('str') + '/' + pd.Series(map(lambda x: x.zfill(2), temp['day'].astype('str'))).astype('str')\n",
    "    temp = temp.groupby(['date', 'hour'])['전력사용량(kWh)'].median().reset_index().pivot('date', 'hour', '전력사용량(kWh)')\n",
    "    temp = temp.sort_index()\n",
    "\n",
    "    fig = plt.figure(figsize = (16, 4))\n",
    "\n",
    "    for idx, day in zip(range(temp.shape[0]), temp.index):\n",
    "\n",
    "        plt.subplot(1,temp.shape[0],idx+1)\n",
    "        plt.title(f'B{num}_{day}')\n",
    "        plt.ylim(temp.min().min(), temp.max().max())\n",
    "\n",
    "        ax = plt.gca()\n",
    "        ax.axes.xaxis.set_visible(False)\n",
    "        ax.axes.yaxis.set_visible(False)\n",
    "        sns.barplot(temp.iloc[idx,:].index, temp.iloc[idx,:].values)"
   ]
  },
  {
   "cell_type": "markdown",
   "metadata": {},
   "source": [
    "### 6. 건물별 일별 시각화"
   ]
  },
  {
   "cell_type": "code",
   "execution_count": null,
   "metadata": {
    "scrolled": false
   },
   "outputs": [],
   "source": [
    "num = 27\n",
    "temp = train[train.num == num].reset_index(drop=True)\n",
    "temp['date'] = temp['month'].astype('str').reset_index(drop=True) + '/' + pd.Series(map(lambda x: x.zfill(2), temp['day'].astype('str'))).astype('str').reset_index(drop=True)\n",
    "temp = temp.groupby(['date', 'hour'])['전력사용량(kWh)'].median().reset_index().pivot('date', 'hour', '전력사용량(kWh)')\n",
    "\n",
    "fig = plt.figure(figsize = (16, 40))\n",
    "for idx, day in zip(range(temp.shape[0]), temp.index):\n",
    "\n",
    "    plt.subplot(17,5,idx+1)\n",
    "    plt.title(f'B{num}_{day}')\n",
    "    plt.ylim(temp.min().min(), temp.max().max())\n",
    "\n",
    "    ax = plt.gca()\n",
    "    ax.axes.xaxis.set_visible(False)\n",
    "    ax.axes.yaxis.set_visible(False)\n",
    "    sns.barplot(temp.columns, temp.iloc[idx,:].values)"
   ]
  }
 ],
 "metadata": {
  "colab": {
   "collapsed_sections": [],
   "name": "[Baseline]전력사용량예측.ipynb",
   "provenance": []
  },
  "kernelspec": {
   "display_name": "Python 3",
   "language": "python",
   "name": "python3"
  },
  "language_info": {
   "codemirror_mode": {
    "name": "ipython",
    "version": 3
   },
   "file_extension": ".py",
   "mimetype": "text/x-python",
   "name": "python",
   "nbconvert_exporter": "python",
   "pygments_lexer": "ipython3",
   "version": "3.8.5"
  }
 },
 "nbformat": 4,
 "nbformat_minor": 5
}
